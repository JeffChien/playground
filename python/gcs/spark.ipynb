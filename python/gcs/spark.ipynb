{
 "cells": [
  {
   "cell_type": "code",
   "execution_count": 1,
   "metadata": {},
   "outputs": [],
   "source": [
    "import pyspark\n",
    "from pyspark.sql import SparkSession\n",
    "from pyspark.conf import SparkConf\n",
    "import os"
   ]
  },
  {
   "cell_type": "markdown",
   "metadata": {},
   "source": [
    "## Spark to access gcs\n",
    "\n",
    "we need cloud storage connector [🔗](https://cloud.google.com/dataproc/docs/concepts/connectors/cloud-storage)\n",
    "\n",
    "we should download the `shaded` version then specify with\n",
    "```python\n",
    ".set('spark.jars', jars)\n",
    "```\n",
    "\n",
    "there's another possible way\n",
    "```\n",
    ".set('spark.jars.packages', 'com.google.cloud.bigdataoss:gcs-connector:hadoop3-2.2.7')\n",
    "```\n",
    "spark will search the maven repository for the package, it sounds great but I encountered problem like `MethodNotFound`, because I've other packages already, and the it kinded of mess up with the dependency...\n",
    "\n",
    "maybe that's way the official document suggest us to use `shaded` version."
   ]
  },
  {
   "cell_type": "code",
   "execution_count": 2,
   "metadata": {},
   "outputs": [
    {
     "name": "stdout",
     "output_type": "stream",
     "text": [
      "22/08/06 21:56:48 WARN NativeCodeLoader: Unable to load native-hadoop library for your platform... using builtin-java classes where applicable\n"
     ]
    },
    {
     "name": "stderr",
     "output_type": "stream",
     "text": [
      "Setting default log level to \"WARN\".\n",
      "To adjust logging level use sc.setLogLevel(newLevel). For SparkR, use setLogLevel(newLevel).\n"
     ]
    }
   ],
   "source": [
    "credentials_location = os.path.expanduser('~/.credentials/google/dtalk_de_zcamp/premium-aloe-357506-8c578ad240d3.json')\n",
    "jars = ','.join(os.path.expanduser(f'~/.ivy2/jars/{x}') for x in [\n",
    "    'gcs-connector-hadoop3-2.2.7-shaded.jar'\n",
    "])\n",
    "conf = (\n",
    "    SparkConf()\n",
    "    .setMaster('local[*]')\n",
    "    .setAppName('test')\n",
    "    # .set('spark.jars.packages', 'com.google.cloud.bigdataoss:gcs-connector:hadoop3-2.2.7')\n",
    "    .set('spark.jars', jars)\n",
    "    .set(\"spark.hadoop.google.cloud.auth.service.account.enable\", \"true\")\n",
    "    .set(\"spark.hadoop.google.cloud.auth.service.account.json.keyfile\", credentials_location)\n",
    "    .set(\"spark.hadoop.fs.AbstractFileSystem.gs.impl\",  \"com.google.cloud.hadoop.fs.gcs.GoogleHadoopFS\")\n",
    "    .set(\"spark.hadoop.fs.gs.impl\", \"com.google.cloud.hadoop.fs.gcs.GoogleHadoopFileSystem\")\n",
    "    .set(\"spark.hadoop.fs.gs.auth.service.account.json.keyfile\", credentials_location)\n",
    "    .set(\"spark.hadoop.fs.gs.auth.service.account.enable\", \"true\")\n",
    "\n",
    ")\n",
    "spark = (\n",
    "    SparkSession.builder\n",
    "        .config(conf=conf)\n",
    ").getOrCreate()"
   ]
  },
  {
   "cell_type": "code",
   "execution_count": 3,
   "metadata": {},
   "outputs": [
    {
     "name": "stderr",
     "output_type": "stream",
     "text": [
      "[Stage 1:>                                                          (0 + 1) / 1]\r"
     ]
    },
    {
     "name": "stdout",
     "output_type": "stream",
     "text": [
      "+----------+-------------+--------------------+------------+\n",
      "|locationid|      borough|                zone|service_zone|\n",
      "+----------+-------------+--------------------+------------+\n",
      "|         1|          EWR|      Newark Airport|         EWR|\n",
      "|         2|       Queens|         Jamaica Bay|   Boro Zone|\n",
      "|         3|        Bronx|Allerton/Pelham G...|   Boro Zone|\n",
      "|         4|    Manhattan|       Alphabet City| Yellow Zone|\n",
      "|         5|Staten Island|       Arden Heights|   Boro Zone|\n",
      "+----------+-------------+--------------------+------------+\n",
      "only showing top 5 rows\n",
      "\n"
     ]
    },
    {
     "name": "stderr",
     "output_type": "stream",
     "text": [
      "                                                                                \r"
     ]
    }
   ],
   "source": [
    "df_zones = spark.read.csv('gs://dtc_data_lake_premium-aloe-357506/raw/taxi+_zone_lookup.csv', header='true')\n",
    "df_zones.show(5)"
   ]
  },
  {
   "cell_type": "markdown",
   "metadata": {},
   "source": [
    "# Similar notes\n",
    "- [spark on s3](../s3/spark.ipynb)"
   ]
  }
 ],
 "metadata": {
  "kernelspec": {
   "display_name": "Python 3.10.4 ('playground-bVXcmDyZ-py3.10')",
   "language": "python",
   "name": "python3"
  },
  "language_info": {
   "codemirror_mode": {
    "name": "ipython",
    "version": 3
   },
   "file_extension": ".py",
   "mimetype": "text/x-python",
   "name": "python",
   "nbconvert_exporter": "python",
   "pygments_lexer": "ipython3",
   "version": "3.10.4"
  },
  "orig_nbformat": 4,
  "vscode": {
   "interpreter": {
    "hash": "ec328247f09b7c16bdd97bd24f4f107b4e6f6b0e91ef074a5f97785a06bf07f1"
   }
  }
 },
 "nbformat": 4,
 "nbformat_minor": 2
}

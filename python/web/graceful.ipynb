{
 "cells": [
  {
   "cell_type": "markdown",
   "metadata": {},
   "source": [
    "template class"
   ]
  },
  {
   "cell_type": "code",
   "execution_count": null,
   "metadata": {},
   "outputs": [],
   "source": [
    "import signal\n",
    "import grpc\n",
    "\n",
    "class GracefulKiller:\n",
    "  def __init__(self, app, timeout=10):\n",
    "    signal.signal(signal.SIGINT, self.exit_gracefully)\n",
    "    signal.signal(signal.SIGTERM, self.exit_gracefully)\n",
    "    self.app = app\n",
    "    self.timeout = 10\n",
    "\n",
    "  def exit_gracefully(self, *args):\n",
    "    # tell self.app to shutdown.\n",
    "    pass"
   ]
  },
  {
   "cell_type": "markdown",
   "metadata": {},
   "source": [
    "gprc examlpe"
   ]
  },
  {
   "cell_type": "code",
   "execution_count": null,
   "metadata": {},
   "outputs": [],
   "source": [
    "class GracefulKiller:\n",
    "  def __init__(self, app, timeout=10):\n",
    "    signal.signal(signal.SIGINT, self.exit_gracefully)\n",
    "    signal.signal(signal.SIGTERM, self.exit_gracefully)\n",
    "    self.app = app\n",
    "    self.timeout = 10\n",
    "\n",
    "  def exit_gracefully(self, *args):\n",
    "    evt = self.app.stop(self.timeout)\n",
    "    evt.wait(self.timeout)\n",
    "\n",
    "server = grpc.server()\n",
    "GracefulKiller(server)\n",
    "#server.wait_for_termination()"
   ]
  }
 ],
 "metadata": {
  "language_info": {
   "name": "python"
  },
  "orig_nbformat": 4
 },
 "nbformat": 4,
 "nbformat_minor": 2
}

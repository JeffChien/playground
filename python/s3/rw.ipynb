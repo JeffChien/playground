{
 "cells": [
  {
   "cell_type": "markdown",
   "metadata": {},
   "source": [
    "# Prerequisite\n",
    "\n",
    "api key for r/w to s3.\n",
    "\n",
    "or seft-host s3 compatible service like ceph, or minio"
   ]
  },
  {
   "cell_type": "markdown",
   "metadata": {},
   "source": [
    "## Basic connection with s3fs\n",
    "\n",
    "It honors `~/.aws/credentials`, we can access key, private key information inside.\n",
    "\n",
    "```\n",
    "[local]\n",
    "aws_access_key_id=****\n",
    "aws_secret_access_key=****\n",
    "```\n",
    "\n",
    "[ref](https://janakiev.com/blog/pandas-pyarrow-parquet-s3/)"
   ]
  },
  {
   "cell_type": "code",
   "execution_count": 22,
   "metadata": {},
   "outputs": [],
   "source": [
    "import s3fs"
   ]
  },
  {
   "cell_type": "code",
   "execution_count": 28,
   "metadata": {},
   "outputs": [
    {
     "data": {
      "text/plain": [
       "['ny-taxi/green_yellow_fact', 'ny-taxi/raw', 'ny-taxi/revenue']"
      ]
     },
     "execution_count": 28,
     "metadata": {},
     "output_type": "execute_result"
    }
   ],
   "source": [
    "fs = s3fs.S3FileSystem(profile='local', client_kwargs={\n",
    "    'endpoint_url': 'http://192.168.46.220:9000'\n",
    "})\n",
    "fs.ls('/ny-taxi')"
   ]
  },
  {
   "cell_type": "markdown",
   "metadata": {},
   "source": [
    "## Read CSV file"
   ]
  },
  {
   "cell_type": "code",
   "execution_count": 1,
   "metadata": {},
   "outputs": [],
   "source": [
    "import pyarrow.csv as pv\n",
    "import pandas as pd\n",
    "import s3fs"
   ]
  },
  {
   "cell_type": "code",
   "execution_count": 3,
   "metadata": {},
   "outputs": [
    {
     "data": {
      "text/html": [
       "<div>\n",
       "<style scoped>\n",
       "    .dataframe tbody tr th:only-of-type {\n",
       "        vertical-align: middle;\n",
       "    }\n",
       "\n",
       "    .dataframe tbody tr th {\n",
       "        vertical-align: top;\n",
       "    }\n",
       "\n",
       "    .dataframe thead th {\n",
       "        text-align: right;\n",
       "    }\n",
       "</style>\n",
       "<table border=\"1\" class=\"dataframe\">\n",
       "  <thead>\n",
       "    <tr style=\"text-align: right;\">\n",
       "      <th></th>\n",
       "      <th>locationid</th>\n",
       "      <th>borough</th>\n",
       "      <th>zone</th>\n",
       "      <th>service_zone</th>\n",
       "    </tr>\n",
       "  </thead>\n",
       "  <tbody>\n",
       "    <tr>\n",
       "      <th>0</th>\n",
       "      <td>1</td>\n",
       "      <td>EWR</td>\n",
       "      <td>Newark Airport</td>\n",
       "      <td>EWR</td>\n",
       "    </tr>\n",
       "    <tr>\n",
       "      <th>1</th>\n",
       "      <td>2</td>\n",
       "      <td>Queens</td>\n",
       "      <td>Jamaica Bay</td>\n",
       "      <td>Boro Zone</td>\n",
       "    </tr>\n",
       "    <tr>\n",
       "      <th>2</th>\n",
       "      <td>3</td>\n",
       "      <td>Bronx</td>\n",
       "      <td>Allerton/Pelham Gardens</td>\n",
       "      <td>Boro Zone</td>\n",
       "    </tr>\n",
       "    <tr>\n",
       "      <th>3</th>\n",
       "      <td>4</td>\n",
       "      <td>Manhattan</td>\n",
       "      <td>Alphabet City</td>\n",
       "      <td>Yellow Zone</td>\n",
       "    </tr>\n",
       "    <tr>\n",
       "      <th>4</th>\n",
       "      <td>5</td>\n",
       "      <td>Staten Island</td>\n",
       "      <td>Arden Heights</td>\n",
       "      <td>Boro Zone</td>\n",
       "    </tr>\n",
       "  </tbody>\n",
       "</table>\n",
       "</div>"
      ],
      "text/plain": [
       "   locationid        borough                     zone service_zone\n",
       "0           1            EWR           Newark Airport          EWR\n",
       "1           2         Queens              Jamaica Bay    Boro Zone\n",
       "2           3          Bronx  Allerton/Pelham Gardens    Boro Zone\n",
       "3           4      Manhattan            Alphabet City  Yellow Zone\n",
       "4           5  Staten Island            Arden Heights    Boro Zone"
      ]
     },
     "execution_count": 3,
     "metadata": {},
     "output_type": "execute_result"
    }
   ],
   "source": [
    "fs = s3fs.S3FileSystem(profile='local', client_kwargs={\n",
    "    'endpoint_url': 'http://192.168.46.220:9000'\n",
    "})\n",
    "\n",
    "s3_filepath_csv = 's3://test/taxi+_zone_lookup.csv'\n",
    "with fs.open(s3_filepath_csv) as f:\n",
    "    df = pd.read_csv(f)\n",
    "\n",
    "    ## or use pyarrow instead\n",
    "    # df = pv.read_csv(f).to_pandas()\n",
    "df.head()"
   ]
  },
  {
   "cell_type": "code",
   "execution_count": 7,
   "metadata": {},
   "outputs": [
    {
     "data": {
      "text/html": [
       "<div>\n",
       "<style scoped>\n",
       "    .dataframe tbody tr th:only-of-type {\n",
       "        vertical-align: middle;\n",
       "    }\n",
       "\n",
       "    .dataframe tbody tr th {\n",
       "        vertical-align: top;\n",
       "    }\n",
       "\n",
       "    .dataframe thead th {\n",
       "        text-align: right;\n",
       "    }\n",
       "</style>\n",
       "<table border=\"1\" class=\"dataframe\">\n",
       "  <thead>\n",
       "    <tr style=\"text-align: right;\">\n",
       "      <th></th>\n",
       "      <th>locationid</th>\n",
       "      <th>borough</th>\n",
       "      <th>zone</th>\n",
       "      <th>service_zone</th>\n",
       "    </tr>\n",
       "  </thead>\n",
       "  <tbody>\n",
       "    <tr>\n",
       "      <th>0</th>\n",
       "      <td>1</td>\n",
       "      <td>EWR</td>\n",
       "      <td>Newark Airport</td>\n",
       "      <td>EWR</td>\n",
       "    </tr>\n",
       "    <tr>\n",
       "      <th>1</th>\n",
       "      <td>2</td>\n",
       "      <td>Queens</td>\n",
       "      <td>Jamaica Bay</td>\n",
       "      <td>Boro Zone</td>\n",
       "    </tr>\n",
       "    <tr>\n",
       "      <th>2</th>\n",
       "      <td>3</td>\n",
       "      <td>Bronx</td>\n",
       "      <td>Allerton/Pelham Gardens</td>\n",
       "      <td>Boro Zone</td>\n",
       "    </tr>\n",
       "    <tr>\n",
       "      <th>3</th>\n",
       "      <td>4</td>\n",
       "      <td>Manhattan</td>\n",
       "      <td>Alphabet City</td>\n",
       "      <td>Yellow Zone</td>\n",
       "    </tr>\n",
       "    <tr>\n",
       "      <th>4</th>\n",
       "      <td>5</td>\n",
       "      <td>Staten Island</td>\n",
       "      <td>Arden Heights</td>\n",
       "      <td>Boro Zone</td>\n",
       "    </tr>\n",
       "  </tbody>\n",
       "</table>\n",
       "</div>"
      ],
      "text/plain": [
       "   locationid        borough                     zone service_zone\n",
       "0           1            EWR           Newark Airport          EWR\n",
       "1           2         Queens              Jamaica Bay    Boro Zone\n",
       "2           3          Bronx  Allerton/Pelham Gardens    Boro Zone\n",
       "3           4      Manhattan            Alphabet City  Yellow Zone\n",
       "4           5  Staten Island            Arden Heights    Boro Zone"
      ]
     },
     "execution_count": 7,
     "metadata": {},
     "output_type": "execute_result"
    }
   ],
   "source": [
    "# alternative, use storage_options parameter\n",
    "\n",
    "df = pd.read_csv(s3_filepath_csv, storage_options={\n",
    "    'profile': 'local',\n",
    "    'client_kwargs': {\n",
    "        'endpoint_url': 'http://192.168.46.220:9000'\n",
    "    }\n",
    "})\n",
    "df.head()"
   ]
  },
  {
   "cell_type": "markdown",
   "metadata": {},
   "source": [
    "## Read parquet file"
   ]
  },
  {
   "cell_type": "code",
   "execution_count": 29,
   "metadata": {},
   "outputs": [],
   "source": [
    "import s3fs\n",
    "import pyarrow.parquet as pq\n",
    "import pandas as pd"
   ]
  },
  {
   "cell_type": "code",
   "execution_count": 38,
   "metadata": {},
   "outputs": [
    {
     "data": {
      "text/html": [
       "<div>\n",
       "<style scoped>\n",
       "    .dataframe tbody tr th:only-of-type {\n",
       "        vertical-align: middle;\n",
       "    }\n",
       "\n",
       "    .dataframe tbody tr th {\n",
       "        vertical-align: top;\n",
       "    }\n",
       "\n",
       "    .dataframe thead th {\n",
       "        text-align: right;\n",
       "    }\n",
       "</style>\n",
       "<table border=\"1\" class=\"dataframe\">\n",
       "  <thead>\n",
       "    <tr style=\"text-align: right;\">\n",
       "      <th></th>\n",
       "      <th>revenue_zone</th>\n",
       "      <th>revenue_month</th>\n",
       "      <th>service_type</th>\n",
       "      <th>revenue_monthly_fare</th>\n",
       "      <th>revenue_monthly_extra</th>\n",
       "      <th>revenue_monthly_mta_tax</th>\n",
       "      <th>revenue_monthly_tip_amount</th>\n",
       "      <th>revenue_monthly_tolls_amount</th>\n",
       "      <th>revenue_monthly_ehail_fee</th>\n",
       "      <th>revenue_monthly_improvement_surcharge</th>\n",
       "      <th>revenue_monthly_total_amount</th>\n",
       "      <th>revenue_monthly_congestion_surcharge</th>\n",
       "      <th>total_monthly_trips</th>\n",
       "      <th>avg_montly_passenger_count</th>\n",
       "      <th>avg_montly_trip_distance</th>\n",
       "    </tr>\n",
       "  </thead>\n",
       "  <tbody>\n",
       "    <tr>\n",
       "      <th>0</th>\n",
       "      <td>Governor's Island/Ellis Island/Liberty Island</td>\n",
       "      <td>2019-02-28 16:00:00</td>\n",
       "      <td>Yellow</td>\n",
       "      <td>122.00</td>\n",
       "      <td>3.50</td>\n",
       "      <td>5.5</td>\n",
       "      <td>19.10</td>\n",
       "      <td>0.00</td>\n",
       "      <td>0.0</td>\n",
       "      <td>3.3</td>\n",
       "      <td>180.35</td>\n",
       "      <td>25.0</td>\n",
       "      <td>11</td>\n",
       "      <td>1.090909</td>\n",
       "      <td>2.212727</td>\n",
       "    </tr>\n",
       "    <tr>\n",
       "      <th>1</th>\n",
       "      <td>Port Richmond</td>\n",
       "      <td>2019-02-28 16:00:00</td>\n",
       "      <td>Green</td>\n",
       "      <td>344.09</td>\n",
       "      <td>2.75</td>\n",
       "      <td>3.5</td>\n",
       "      <td>13.00</td>\n",
       "      <td>46.08</td>\n",
       "      <td>NaN</td>\n",
       "      <td>0.6</td>\n",
       "      <td>410.02</td>\n",
       "      <td>0.0</td>\n",
       "      <td>7</td>\n",
       "      <td>1.000000</td>\n",
       "      <td>16.840000</td>\n",
       "    </tr>\n",
       "    <tr>\n",
       "      <th>2</th>\n",
       "      <td>Astoria</td>\n",
       "      <td>2008-12-31 16:00:00</td>\n",
       "      <td>Green</td>\n",
       "      <td>57.50</td>\n",
       "      <td>2.00</td>\n",
       "      <td>3.5</td>\n",
       "      <td>0.00</td>\n",
       "      <td>0.00</td>\n",
       "      <td>NaN</td>\n",
       "      <td>2.1</td>\n",
       "      <td>65.10</td>\n",
       "      <td>0.0</td>\n",
       "      <td>7</td>\n",
       "      <td>1.000000</td>\n",
       "      <td>1.730000</td>\n",
       "    </tr>\n",
       "    <tr>\n",
       "      <th>3</th>\n",
       "      <td>Washington Heights South</td>\n",
       "      <td>2019-03-31 16:00:00</td>\n",
       "      <td>Yellow</td>\n",
       "      <td>134694.92</td>\n",
       "      <td>4847.75</td>\n",
       "      <td>4132.5</td>\n",
       "      <td>13307.80</td>\n",
       "      <td>2768.10</td>\n",
       "      <td>0.0</td>\n",
       "      <td>2520.9</td>\n",
       "      <td>166334.57</td>\n",
       "      <td>5885.0</td>\n",
       "      <td>8458</td>\n",
       "      <td>1.561506</td>\n",
       "      <td>4.025770</td>\n",
       "    </tr>\n",
       "    <tr>\n",
       "      <th>4</th>\n",
       "      <td>South Ozone Park</td>\n",
       "      <td>2019-02-28 16:00:00</td>\n",
       "      <td>Green</td>\n",
       "      <td>39829.39</td>\n",
       "      <td>1039.75</td>\n",
       "      <td>634.0</td>\n",
       "      <td>89.43</td>\n",
       "      <td>965.52</td>\n",
       "      <td>NaN</td>\n",
       "      <td>176.7</td>\n",
       "      <td>42744.49</td>\n",
       "      <td>16.5</td>\n",
       "      <td>1367</td>\n",
       "      <td>1.221680</td>\n",
       "      <td>8.019561</td>\n",
       "    </tr>\n",
       "  </tbody>\n",
       "</table>\n",
       "</div>"
      ],
      "text/plain": [
       "                                    revenue_zone       revenue_month  \\\n",
       "0  Governor's Island/Ellis Island/Liberty Island 2019-02-28 16:00:00   \n",
       "1                                  Port Richmond 2019-02-28 16:00:00   \n",
       "2                                        Astoria 2008-12-31 16:00:00   \n",
       "3                       Washington Heights South 2019-03-31 16:00:00   \n",
       "4                               South Ozone Park 2019-02-28 16:00:00   \n",
       "\n",
       "  service_type  revenue_monthly_fare  revenue_monthly_extra  \\\n",
       "0       Yellow                122.00                   3.50   \n",
       "1        Green                344.09                   2.75   \n",
       "2        Green                 57.50                   2.00   \n",
       "3       Yellow             134694.92                4847.75   \n",
       "4        Green              39829.39                1039.75   \n",
       "\n",
       "   revenue_monthly_mta_tax  revenue_monthly_tip_amount  \\\n",
       "0                      5.5                       19.10   \n",
       "1                      3.5                       13.00   \n",
       "2                      3.5                        0.00   \n",
       "3                   4132.5                    13307.80   \n",
       "4                    634.0                       89.43   \n",
       "\n",
       "   revenue_monthly_tolls_amount  revenue_monthly_ehail_fee  \\\n",
       "0                          0.00                        0.0   \n",
       "1                         46.08                        NaN   \n",
       "2                          0.00                        NaN   \n",
       "3                       2768.10                        0.0   \n",
       "4                        965.52                        NaN   \n",
       "\n",
       "   revenue_monthly_improvement_surcharge  revenue_monthly_total_amount  \\\n",
       "0                                    3.3                        180.35   \n",
       "1                                    0.6                        410.02   \n",
       "2                                    2.1                         65.10   \n",
       "3                                 2520.9                     166334.57   \n",
       "4                                  176.7                      42744.49   \n",
       "\n",
       "   revenue_monthly_congestion_surcharge  total_monthly_trips  \\\n",
       "0                                  25.0                   11   \n",
       "1                                   0.0                    7   \n",
       "2                                   0.0                    7   \n",
       "3                                5885.0                 8458   \n",
       "4                                  16.5                 1367   \n",
       "\n",
       "   avg_montly_passenger_count  avg_montly_trip_distance  \n",
       "0                    1.090909                  2.212727  \n",
       "1                    1.000000                 16.840000  \n",
       "2                    1.000000                  1.730000  \n",
       "3                    1.561506                  4.025770  \n",
       "4                    1.221680                  8.019561  "
      ]
     },
     "execution_count": 38,
     "metadata": {},
     "output_type": "execute_result"
    }
   ],
   "source": [
    "\n",
    "fs = s3fs.S3FileSystem(profile='local', client_kwargs={\n",
    "    'endpoint_url': 'http://192.168.46.220:9000'\n",
    "})\n",
    "\n",
    "s3_filepath = 's3://ny-taxi/revenue/part-00004-35a8cfd3-21cd-4c82-ba24-6a1d2c3d1330-c000.snappy.parquet'\n",
    "pf = pq.ParquetDataset(s3_filepath, filesystem=fs)\n",
    "df = pf.read().to_pandas()\n",
    "df.head()"
   ]
  },
  {
   "cell_type": "markdown",
   "metadata": {},
   "source": [
    "## Write parquet"
   ]
  },
  {
   "cell_type": "code",
   "execution_count": 53,
   "metadata": {},
   "outputs": [],
   "source": [
    "import s3fs\n",
    "import pyarrow.parquet as pq\n",
    "from pyarrow import Table\n",
    "import pandas as pd"
   ]
  },
  {
   "cell_type": "code",
   "execution_count": 44,
   "metadata": {},
   "outputs": [
    {
     "data": {
      "text/html": [
       "<div>\n",
       "<style scoped>\n",
       "    .dataframe tbody tr th:only-of-type {\n",
       "        vertical-align: middle;\n",
       "    }\n",
       "\n",
       "    .dataframe tbody tr th {\n",
       "        vertical-align: top;\n",
       "    }\n",
       "\n",
       "    .dataframe thead th {\n",
       "        text-align: right;\n",
       "    }\n",
       "</style>\n",
       "<table border=\"1\" class=\"dataframe\">\n",
       "  <thead>\n",
       "    <tr style=\"text-align: right;\">\n",
       "      <th></th>\n",
       "      <th>Name</th>\n",
       "      <th>Age</th>\n",
       "    </tr>\n",
       "  </thead>\n",
       "  <tbody>\n",
       "    <tr>\n",
       "      <th>0</th>\n",
       "      <td>Tom</td>\n",
       "      <td>20</td>\n",
       "    </tr>\n",
       "    <tr>\n",
       "      <th>1</th>\n",
       "      <td>Nick</td>\n",
       "      <td>21</td>\n",
       "    </tr>\n",
       "    <tr>\n",
       "      <th>2</th>\n",
       "      <td>Krish</td>\n",
       "      <td>19</td>\n",
       "    </tr>\n",
       "    <tr>\n",
       "      <th>3</th>\n",
       "      <td>Jack</td>\n",
       "      <td>18</td>\n",
       "    </tr>\n",
       "  </tbody>\n",
       "</table>\n",
       "</div>"
      ],
      "text/plain": [
       "    Name  Age\n",
       "0    Tom   20\n",
       "1   Nick   21\n",
       "2  Krish   19\n",
       "3   Jack   18"
      ]
     },
     "execution_count": 44,
     "metadata": {},
     "output_type": "execute_result"
    }
   ],
   "source": [
    "# initialize data of lists.\n",
    "data = {'Name': ['Tom', 'Nick', 'Krish', 'Jack'],\n",
    "        'Age': [20, 21, 19, 18]}\n",
    "  \n",
    "# Create DataFrame\n",
    "df = pd.DataFrame(data)\n",
    "df.head()"
   ]
  },
  {
   "cell_type": "code",
   "execution_count": 52,
   "metadata": {},
   "outputs": [
    {
     "data": {
      "text/plain": [
       "['test/test_write.parquet']"
      ]
     },
     "execution_count": 52,
     "metadata": {},
     "output_type": "execute_result"
    }
   ],
   "source": [
    "fs = s3fs.S3FileSystem(profile='local', client_kwargs={\n",
    "    'endpoint_url': 'http://192.168.46.220:9000'\n",
    "})\n",
    "\n",
    "s3_output_file='s3://test/test_write.parquet'\n",
    "with fs.open(s3_output_file, 'wb') as f:\n",
    "    df.to_parquet(f)\n",
    "fs.ls(s3_output_file)"
   ]
  },
  {
   "cell_type": "code",
   "execution_count": 76,
   "metadata": {},
   "outputs": [
    {
     "data": {
      "text/plain": [
       "['test/test_write.parquet']"
      ]
     },
     "execution_count": 76,
     "metadata": {},
     "output_type": "execute_result"
    }
   ],
   "source": [
    "# alternative\n",
    "\n",
    "pq.write_table(\n",
    "    Table.from_pandas(df),\n",
    "    s3_output_file,\n",
    "    filesystem=fs\n",
    ")\n",
    "fs.ls(s3_output_file)"
   ]
  },
  {
   "cell_type": "code",
   "execution_count": 78,
   "metadata": {},
   "outputs": [],
   "source": [
    "fs.rm(s3_output_file)"
   ]
  }
 ],
 "metadata": {
  "kernelspec": {
   "display_name": "Python 3.10.4 ('playground-bVXcmDyZ-py3.10')",
   "language": "python",
   "name": "python3"
  },
  "language_info": {
   "codemirror_mode": {
    "name": "ipython",
    "version": 3
   },
   "file_extension": ".py",
   "mimetype": "text/x-python",
   "name": "python",
   "nbconvert_exporter": "python",
   "pygments_lexer": "ipython3",
   "version": "3.10.4"
  },
  "orig_nbformat": 4,
  "vscode": {
   "interpreter": {
    "hash": "ec328247f09b7c16bdd97bd24f4f107b4e6f6b0e91ef074a5f97785a06bf07f1"
   }
  }
 },
 "nbformat": 4,
 "nbformat_minor": 2
}

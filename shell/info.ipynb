{
 "cells": [
  {
   "cell_type": "markdown",
   "metadata": {},
   "source": [
    "## Find used ports and application"
   ]
  },
  {
   "cell_type": "markdown",
   "metadata": {},
   "source": [
    "### Mac\n",
    "\n",
    "```\n",
    "$ lsof -PiTCP -sTCP:LISTEN\n",
    "```\n",
    "or \n",
    "```\n",
    "$ netstat -anvp tcp\n",
    "```\n",
    "\n",
    "\n",
    "[source](https://apple.stackexchange.com/questions/117644/how-can-i-list-my-open-network-ports-with-netstat)"
   ]
  }
 ],
 "metadata": {
  "language_info": {
   "name": "python"
  },
  "orig_nbformat": 4
 },
 "nbformat": 4,
 "nbformat_minor": 2
}
